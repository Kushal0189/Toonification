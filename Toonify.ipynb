{
 "cells": [
  {
   "cell_type": "code",
   "execution_count": 12,
   "metadata": {},
   "outputs": [
    {
     "data": {
      "text/plain": [
       "-1"
      ]
     },
     "execution_count": 12,
     "metadata": {},
     "output_type": "execute_result"
    }
   ],
   "source": [
    "import cv2\n",
    "import numpy as np \n",
    "import math\n",
    "\n",
    "a = 24\n",
    "N = 5\n",
    "p = 100\n",
    "\n",
    "####################################### Color Staircasing #################################################################\n",
    "\n",
    "#Filtering with k1 = kernal size and N = number of iterations\n",
    "#Median Filtering\n",
    "#Color Quantization Floor Factor = a\n",
    "\n",
    "input_image = cv2.imread('7.png')\n",
    "\n",
    "for x in range(0,N):\n",
    "    bilateral_filtimg = cv2.bilateralFilter(input_image,9,75,75)\n",
    "\n",
    "median_filtimg = cv2.medianBlur(bilateral_filtimg,5)\n",
    "\n",
    "[rows,cols,c] = median_filtimg.shape\n",
    "colorquantimg = median_filtimg\n",
    "for i in range(0,rows):\n",
    "    for j in range(0,cols):\n",
    "        xb = median_filtimg.item(i,j,0)\n",
    "        xg = median_filtimg.item(i,j,1)\n",
    "        xr = median_filtimg.item(i,j,2)  \n",
    "        xb = math.floor(xb/a)*a \n",
    "        xg = math.floor(xg/a)*a\n",
    "        xr = math.floor(xr/a)*a\n",
    "        colorquantimg.itemset((i,j,0),xb)\n",
    "        colorquantimg.itemset((i,j,1),xg)\n",
    "        colorquantimg.itemset((i,j,2),xr)\n",
    "\n",
    "\n",
    "############################################## Edge Detection ###########################################################\n",
    "\n",
    "#Used Canny Edge Detector \n",
    "#p is used for set the threshold \n",
    "edges = cv2.Canny(median_filtimg,p,2*p)\n",
    "dialateimg = cv2.dilate(edges,np.ones((3,3),'uint8'))\n",
    "edges_inv = cv2.bitwise_not(dialateimg)\n",
    "\n",
    "############################################ Recombine both the images ###################################################\n",
    "finalimg = colorquantimg\n",
    "for i in range(0,rows):\n",
    "    for j in range(0,cols):\n",
    "        if edges_inv.item(i,j) == 0:\n",
    "            finalimg.itemset((i,j,0),0)\n",
    "            finalimg.itemset((i,j,1),0)\n",
    "            finalimg.itemset((i,j,2),0)\n",
    "cv2.imshow('Toonified Image',finalimg)       \n",
    "cv2.waitKey(0)  "
   ]
  },
  {
   "cell_type": "code",
   "execution_count": null,
   "metadata": {},
   "outputs": [],
   "source": []
  }
 ],
 "metadata": {
  "kernelspec": {
   "display_name": "Python 3",
   "language": "python",
   "name": "python3"
  },
  "language_info": {
   "codemirror_mode": {
    "name": "ipython",
    "version": 3
   },
   "file_extension": ".py",
   "mimetype": "text/x-python",
   "name": "python",
   "nbconvert_exporter": "python",
   "pygments_lexer": "ipython3",
   "version": "3.7.3"
  }
 },
 "nbformat": 4,
 "nbformat_minor": 2
}
